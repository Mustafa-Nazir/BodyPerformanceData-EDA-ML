{
 "cells": [
  {
   "cell_type": "markdown",
   "id": "bdc69805",
   "metadata": {},
   "source": [
    "# Body Performance Dataset \"gender\" Classification"
   ]
  },
  {
   "cell_type": "code",
   "execution_count": 1,
   "id": "23a26822",
   "metadata": {},
   "outputs": [],
   "source": [
    "#importing the libraries\n",
    "import pandas as pd\n",
    "import numpy as np\n",
    "import matplotlib.pyplot as plt\n",
    "import seaborn as sns\n",
    "from sklearn.model_selection import train_test_split\n",
    "from sklearn.preprocessing import StandardScaler"
   ]
  },
  {
   "cell_type": "code",
   "execution_count": 2,
   "id": "85f5f3eb",
   "metadata": {},
   "outputs": [],
   "source": [
    "#importing dataset\n",
    "data = pd.read_csv(\"bodyPerformance_index.csv\")"
   ]
  },
  {
   "cell_type": "code",
   "execution_count": 3,
   "id": "f0cc8dc1",
   "metadata": {},
   "outputs": [
    {
     "data": {
      "text/html": [
       "<div>\n",
       "<style scoped>\n",
       "    .dataframe tbody tr th:only-of-type {\n",
       "        vertical-align: middle;\n",
       "    }\n",
       "\n",
       "    .dataframe tbody tr th {\n",
       "        vertical-align: top;\n",
       "    }\n",
       "\n",
       "    .dataframe thead th {\n",
       "        text-align: right;\n",
       "    }\n",
       "</style>\n",
       "<table border=\"1\" class=\"dataframe\">\n",
       "  <thead>\n",
       "    <tr style=\"text-align: right;\">\n",
       "      <th></th>\n",
       "      <th>age</th>\n",
       "      <th>gender</th>\n",
       "      <th>height_cm</th>\n",
       "      <th>weight_kg</th>\n",
       "      <th>body fat_%</th>\n",
       "      <th>diastolic</th>\n",
       "      <th>systolic</th>\n",
       "      <th>gripForce</th>\n",
       "      <th>sit and bend forward_cm</th>\n",
       "      <th>sit-ups counts</th>\n",
       "      <th>broad jump_cm</th>\n",
       "      <th>class</th>\n",
       "      <th>BMIndex</th>\n",
       "      <th>situation</th>\n",
       "      <th>_systolic</th>\n",
       "      <th>_diastolic</th>\n",
       "    </tr>\n",
       "  </thead>\n",
       "  <tbody>\n",
       "    <tr>\n",
       "      <th>0</th>\n",
       "      <td>27.0</td>\n",
       "      <td>M</td>\n",
       "      <td>172.3</td>\n",
       "      <td>75.24</td>\n",
       "      <td>21.3</td>\n",
       "      <td>80.0</td>\n",
       "      <td>130.0</td>\n",
       "      <td>54.9</td>\n",
       "      <td>18.4</td>\n",
       "      <td>60.0</td>\n",
       "      <td>217.0</td>\n",
       "      <td>2</td>\n",
       "      <td>25.344179</td>\n",
       "      <td>3</td>\n",
       "      <td>2</td>\n",
       "      <td>2</td>\n",
       "    </tr>\n",
       "    <tr>\n",
       "      <th>1</th>\n",
       "      <td>25.0</td>\n",
       "      <td>M</td>\n",
       "      <td>165.0</td>\n",
       "      <td>55.80</td>\n",
       "      <td>15.7</td>\n",
       "      <td>77.0</td>\n",
       "      <td>126.0</td>\n",
       "      <td>36.4</td>\n",
       "      <td>16.3</td>\n",
       "      <td>53.0</td>\n",
       "      <td>229.0</td>\n",
       "      <td>4</td>\n",
       "      <td>20.495868</td>\n",
       "      <td>2</td>\n",
       "      <td>2</td>\n",
       "      <td>2</td>\n",
       "    </tr>\n",
       "    <tr>\n",
       "      <th>2</th>\n",
       "      <td>31.0</td>\n",
       "      <td>M</td>\n",
       "      <td>179.6</td>\n",
       "      <td>78.00</td>\n",
       "      <td>20.1</td>\n",
       "      <td>92.0</td>\n",
       "      <td>152.0</td>\n",
       "      <td>44.8</td>\n",
       "      <td>12.0</td>\n",
       "      <td>49.0</td>\n",
       "      <td>181.0</td>\n",
       "      <td>2</td>\n",
       "      <td>24.181428</td>\n",
       "      <td>2</td>\n",
       "      <td>3</td>\n",
       "      <td>3</td>\n",
       "    </tr>\n",
       "    <tr>\n",
       "      <th>3</th>\n",
       "      <td>32.0</td>\n",
       "      <td>M</td>\n",
       "      <td>174.5</td>\n",
       "      <td>71.10</td>\n",
       "      <td>18.4</td>\n",
       "      <td>76.0</td>\n",
       "      <td>147.0</td>\n",
       "      <td>41.4</td>\n",
       "      <td>15.2</td>\n",
       "      <td>53.0</td>\n",
       "      <td>219.0</td>\n",
       "      <td>3</td>\n",
       "      <td>23.349562</td>\n",
       "      <td>2</td>\n",
       "      <td>3</td>\n",
       "      <td>2</td>\n",
       "    </tr>\n",
       "    <tr>\n",
       "      <th>4</th>\n",
       "      <td>28.0</td>\n",
       "      <td>M</td>\n",
       "      <td>173.8</td>\n",
       "      <td>67.70</td>\n",
       "      <td>17.1</td>\n",
       "      <td>70.0</td>\n",
       "      <td>127.0</td>\n",
       "      <td>43.5</td>\n",
       "      <td>27.1</td>\n",
       "      <td>45.0</td>\n",
       "      <td>217.0</td>\n",
       "      <td>3</td>\n",
       "      <td>22.412439</td>\n",
       "      <td>2</td>\n",
       "      <td>2</td>\n",
       "      <td>2</td>\n",
       "    </tr>\n",
       "    <tr>\n",
       "      <th>5</th>\n",
       "      <td>36.0</td>\n",
       "      <td>F</td>\n",
       "      <td>165.4</td>\n",
       "      <td>55.40</td>\n",
       "      <td>22.0</td>\n",
       "      <td>64.0</td>\n",
       "      <td>119.0</td>\n",
       "      <td>23.8</td>\n",
       "      <td>21.0</td>\n",
       "      <td>27.0</td>\n",
       "      <td>153.0</td>\n",
       "      <td>3</td>\n",
       "      <td>20.250640</td>\n",
       "      <td>2</td>\n",
       "      <td>1</td>\n",
       "      <td>1</td>\n",
       "    </tr>\n",
       "    <tr>\n",
       "      <th>6</th>\n",
       "      <td>42.0</td>\n",
       "      <td>F</td>\n",
       "      <td>164.5</td>\n",
       "      <td>63.70</td>\n",
       "      <td>32.2</td>\n",
       "      <td>72.0</td>\n",
       "      <td>135.0</td>\n",
       "      <td>22.7</td>\n",
       "      <td>0.8</td>\n",
       "      <td>18.0</td>\n",
       "      <td>146.0</td>\n",
       "      <td>1</td>\n",
       "      <td>23.540063</td>\n",
       "      <td>2</td>\n",
       "      <td>3</td>\n",
       "      <td>2</td>\n",
       "    </tr>\n",
       "    <tr>\n",
       "      <th>7</th>\n",
       "      <td>33.0</td>\n",
       "      <td>M</td>\n",
       "      <td>174.9</td>\n",
       "      <td>77.20</td>\n",
       "      <td>36.9</td>\n",
       "      <td>84.0</td>\n",
       "      <td>137.0</td>\n",
       "      <td>45.9</td>\n",
       "      <td>12.3</td>\n",
       "      <td>42.0</td>\n",
       "      <td>234.0</td>\n",
       "      <td>3</td>\n",
       "      <td>25.236997</td>\n",
       "      <td>3</td>\n",
       "      <td>3</td>\n",
       "      <td>2</td>\n",
       "    </tr>\n",
       "    <tr>\n",
       "      <th>8</th>\n",
       "      <td>54.0</td>\n",
       "      <td>M</td>\n",
       "      <td>166.8</td>\n",
       "      <td>67.50</td>\n",
       "      <td>27.6</td>\n",
       "      <td>85.0</td>\n",
       "      <td>165.0</td>\n",
       "      <td>40.4</td>\n",
       "      <td>18.6</td>\n",
       "      <td>34.0</td>\n",
       "      <td>148.0</td>\n",
       "      <td>2</td>\n",
       "      <td>24.261167</td>\n",
       "      <td>2</td>\n",
       "      <td>3</td>\n",
       "      <td>2</td>\n",
       "    </tr>\n",
       "    <tr>\n",
       "      <th>9</th>\n",
       "      <td>28.0</td>\n",
       "      <td>M</td>\n",
       "      <td>185.0</td>\n",
       "      <td>84.60</td>\n",
       "      <td>14.4</td>\n",
       "      <td>81.0</td>\n",
       "      <td>156.0</td>\n",
       "      <td>57.9</td>\n",
       "      <td>12.1</td>\n",
       "      <td>55.0</td>\n",
       "      <td>213.0</td>\n",
       "      <td>3</td>\n",
       "      <td>24.718773</td>\n",
       "      <td>2</td>\n",
       "      <td>3</td>\n",
       "      <td>2</td>\n",
       "    </tr>\n",
       "    <tr>\n",
       "      <th>10</th>\n",
       "      <td>42.0</td>\n",
       "      <td>M</td>\n",
       "      <td>169.2</td>\n",
       "      <td>65.40</td>\n",
       "      <td>19.3</td>\n",
       "      <td>63.0</td>\n",
       "      <td>110.0</td>\n",
       "      <td>43.5</td>\n",
       "      <td>16.0</td>\n",
       "      <td>68.0</td>\n",
       "      <td>211.0</td>\n",
       "      <td>4</td>\n",
       "      <td>22.844257</td>\n",
       "      <td>2</td>\n",
       "      <td>1</td>\n",
       "      <td>1</td>\n",
       "    </tr>\n",
       "    <tr>\n",
       "      <th>11</th>\n",
       "      <td>57.0</td>\n",
       "      <td>F</td>\n",
       "      <td>153.0</td>\n",
       "      <td>49.00</td>\n",
       "      <td>20.9</td>\n",
       "      <td>69.0</td>\n",
       "      <td>106.0</td>\n",
       "      <td>21.5</td>\n",
       "      <td>30.0</td>\n",
       "      <td>0.0</td>\n",
       "      <td>90.0</td>\n",
       "      <td>1</td>\n",
       "      <td>20.932120</td>\n",
       "      <td>2</td>\n",
       "      <td>1</td>\n",
       "      <td>1</td>\n",
       "    </tr>\n",
       "    <tr>\n",
       "      <th>12</th>\n",
       "      <td>27.0</td>\n",
       "      <td>F</td>\n",
       "      <td>156.0</td>\n",
       "      <td>53.90</td>\n",
       "      <td>35.5</td>\n",
       "      <td>69.0</td>\n",
       "      <td>116.0</td>\n",
       "      <td>23.1</td>\n",
       "      <td>13.1</td>\n",
       "      <td>28.0</td>\n",
       "      <td>144.0</td>\n",
       "      <td>2</td>\n",
       "      <td>22.148258</td>\n",
       "      <td>2</td>\n",
       "      <td>1</td>\n",
       "      <td>1</td>\n",
       "    </tr>\n",
       "    <tr>\n",
       "      <th>13</th>\n",
       "      <td>22.0</td>\n",
       "      <td>M</td>\n",
       "      <td>175.7</td>\n",
       "      <td>67.90</td>\n",
       "      <td>11.3</td>\n",
       "      <td>71.0</td>\n",
       "      <td>103.0</td>\n",
       "      <td>52.5</td>\n",
       "      <td>19.2</td>\n",
       "      <td>55.0</td>\n",
       "      <td>232.0</td>\n",
       "      <td>2</td>\n",
       "      <td>21.995116</td>\n",
       "      <td>2</td>\n",
       "      <td>1</td>\n",
       "      <td>2</td>\n",
       "    </tr>\n",
       "    <tr>\n",
       "      <th>14</th>\n",
       "      <td>24.0</td>\n",
       "      <td>M</td>\n",
       "      <td>181.0</td>\n",
       "      <td>84.40</td>\n",
       "      <td>20.4</td>\n",
       "      <td>80.0</td>\n",
       "      <td>120.0</td>\n",
       "      <td>48.9</td>\n",
       "      <td>7.2</td>\n",
       "      <td>54.0</td>\n",
       "      <td>213.0</td>\n",
       "      <td>2</td>\n",
       "      <td>25.762339</td>\n",
       "      <td>3</td>\n",
       "      <td>2</td>\n",
       "      <td>2</td>\n",
       "    </tr>\n",
       "  </tbody>\n",
       "</table>\n",
       "</div>"
      ],
      "text/plain": [
       "     age gender  height_cm  weight_kg  body fat_%  diastolic  systolic  \\\n",
       "0   27.0      M      172.3      75.24        21.3       80.0     130.0   \n",
       "1   25.0      M      165.0      55.80        15.7       77.0     126.0   \n",
       "2   31.0      M      179.6      78.00        20.1       92.0     152.0   \n",
       "3   32.0      M      174.5      71.10        18.4       76.0     147.0   \n",
       "4   28.0      M      173.8      67.70        17.1       70.0     127.0   \n",
       "5   36.0      F      165.4      55.40        22.0       64.0     119.0   \n",
       "6   42.0      F      164.5      63.70        32.2       72.0     135.0   \n",
       "7   33.0      M      174.9      77.20        36.9       84.0     137.0   \n",
       "8   54.0      M      166.8      67.50        27.6       85.0     165.0   \n",
       "9   28.0      M      185.0      84.60        14.4       81.0     156.0   \n",
       "10  42.0      M      169.2      65.40        19.3       63.0     110.0   \n",
       "11  57.0      F      153.0      49.00        20.9       69.0     106.0   \n",
       "12  27.0      F      156.0      53.90        35.5       69.0     116.0   \n",
       "13  22.0      M      175.7      67.90        11.3       71.0     103.0   \n",
       "14  24.0      M      181.0      84.40        20.4       80.0     120.0   \n",
       "\n",
       "    gripForce  sit and bend forward_cm  sit-ups counts  broad jump_cm  class  \\\n",
       "0        54.9                     18.4            60.0          217.0      2   \n",
       "1        36.4                     16.3            53.0          229.0      4   \n",
       "2        44.8                     12.0            49.0          181.0      2   \n",
       "3        41.4                     15.2            53.0          219.0      3   \n",
       "4        43.5                     27.1            45.0          217.0      3   \n",
       "5        23.8                     21.0            27.0          153.0      3   \n",
       "6        22.7                      0.8            18.0          146.0      1   \n",
       "7        45.9                     12.3            42.0          234.0      3   \n",
       "8        40.4                     18.6            34.0          148.0      2   \n",
       "9        57.9                     12.1            55.0          213.0      3   \n",
       "10       43.5                     16.0            68.0          211.0      4   \n",
       "11       21.5                     30.0             0.0           90.0      1   \n",
       "12       23.1                     13.1            28.0          144.0      2   \n",
       "13       52.5                     19.2            55.0          232.0      2   \n",
       "14       48.9                      7.2            54.0          213.0      2   \n",
       "\n",
       "      BMIndex  situation  _systolic  _diastolic  \n",
       "0   25.344179          3          2           2  \n",
       "1   20.495868          2          2           2  \n",
       "2   24.181428          2          3           3  \n",
       "3   23.349562          2          3           2  \n",
       "4   22.412439          2          2           2  \n",
       "5   20.250640          2          1           1  \n",
       "6   23.540063          2          3           2  \n",
       "7   25.236997          3          3           2  \n",
       "8   24.261167          2          3           2  \n",
       "9   24.718773          2          3           2  \n",
       "10  22.844257          2          1           1  \n",
       "11  20.932120          2          1           1  \n",
       "12  22.148258          2          1           1  \n",
       "13  21.995116          2          1           2  \n",
       "14  25.762339          3          2           2  "
      ]
     },
     "execution_count": 3,
     "metadata": {},
     "output_type": "execute_result"
    }
   ],
   "source": [
    "data.head(15)"
   ]
  },
  {
   "cell_type": "code",
   "execution_count": 4,
   "id": "78ca60e0",
   "metadata": {},
   "outputs": [
    {
     "name": "stdout",
     "output_type": "stream",
     "text": [
      "<class 'pandas.core.frame.DataFrame'>\n",
      "RangeIndex: 13393 entries, 0 to 13392\n",
      "Data columns (total 16 columns):\n",
      " #   Column                   Non-Null Count  Dtype  \n",
      "---  ------                   --------------  -----  \n",
      " 0   age                      13393 non-null  float64\n",
      " 1   gender                   13393 non-null  object \n",
      " 2   height_cm                13393 non-null  float64\n",
      " 3   weight_kg                13393 non-null  float64\n",
      " 4   body fat_%               13393 non-null  float64\n",
      " 5   diastolic                13393 non-null  float64\n",
      " 6   systolic                 13393 non-null  float64\n",
      " 7   gripForce                13393 non-null  float64\n",
      " 8   sit and bend forward_cm  13393 non-null  float64\n",
      " 9   sit-ups counts           13393 non-null  float64\n",
      " 10  broad jump_cm            13393 non-null  float64\n",
      " 11  class                    13393 non-null  int64  \n",
      " 12  BMIndex                  13393 non-null  float64\n",
      " 13  situation                13393 non-null  int64  \n",
      " 14  _systolic                13393 non-null  int64  \n",
      " 15  _diastolic               13393 non-null  int64  \n",
      "dtypes: float64(11), int64(4), object(1)\n",
      "memory usage: 1.6+ MB\n"
     ]
    }
   ],
   "source": [
    "#control for data type\n",
    "data.info()"
   ]
  },
  {
   "cell_type": "code",
   "execution_count": 5,
   "id": "f81ebc6a",
   "metadata": {},
   "outputs": [
    {
     "data": {
      "text/plain": [
       "age                        0\n",
       "gender                     0\n",
       "height_cm                  0\n",
       "weight_kg                  0\n",
       "body fat_%                 0\n",
       "diastolic                  0\n",
       "systolic                   0\n",
       "gripForce                  0\n",
       "sit and bend forward_cm    0\n",
       "sit-ups counts             0\n",
       "broad jump_cm              0\n",
       "class                      0\n",
       "BMIndex                    0\n",
       "situation                  0\n",
       "_systolic                  0\n",
       "_diastolic                 0\n",
       "dtype: int64"
      ]
     },
     "execution_count": 5,
     "metadata": {},
     "output_type": "execute_result"
    }
   ],
   "source": [
    "#control for missing value\n",
    "data.isnull().sum()"
   ]
  },
  {
   "cell_type": "code",
   "execution_count": 6,
   "id": "7725b387",
   "metadata": {},
   "outputs": [],
   "source": [
    "#split the data for train, test and validation\n",
    "gender = data[\"gender\"].copy()\n",
    "df = data.drop(\"gender\" , axis=1)"
   ]
  },
  {
   "cell_type": "code",
   "execution_count": 7,
   "id": "061c4eba",
   "metadata": {},
   "outputs": [
    {
     "data": {
      "text/plain": [
       "0    M\n",
       "1    M\n",
       "2    M\n",
       "3    M\n",
       "4    M\n",
       "Name: gender, dtype: object"
      ]
     },
     "execution_count": 7,
     "metadata": {},
     "output_type": "execute_result"
    }
   ],
   "source": [
    "gender.head(5)"
   ]
  },
  {
   "cell_type": "code",
   "execution_count": 8,
   "id": "05e96d13",
   "metadata": {},
   "outputs": [
    {
     "data": {
      "text/html": [
       "<div>\n",
       "<style scoped>\n",
       "    .dataframe tbody tr th:only-of-type {\n",
       "        vertical-align: middle;\n",
       "    }\n",
       "\n",
       "    .dataframe tbody tr th {\n",
       "        vertical-align: top;\n",
       "    }\n",
       "\n",
       "    .dataframe thead th {\n",
       "        text-align: right;\n",
       "    }\n",
       "</style>\n",
       "<table border=\"1\" class=\"dataframe\">\n",
       "  <thead>\n",
       "    <tr style=\"text-align: right;\">\n",
       "      <th></th>\n",
       "      <th>age</th>\n",
       "      <th>height_cm</th>\n",
       "      <th>weight_kg</th>\n",
       "      <th>body fat_%</th>\n",
       "      <th>diastolic</th>\n",
       "      <th>systolic</th>\n",
       "      <th>gripForce</th>\n",
       "      <th>sit and bend forward_cm</th>\n",
       "      <th>sit-ups counts</th>\n",
       "      <th>broad jump_cm</th>\n",
       "      <th>class</th>\n",
       "      <th>BMIndex</th>\n",
       "      <th>situation</th>\n",
       "      <th>_systolic</th>\n",
       "      <th>_diastolic</th>\n",
       "    </tr>\n",
       "  </thead>\n",
       "  <tbody>\n",
       "    <tr>\n",
       "      <th>0</th>\n",
       "      <td>27.0</td>\n",
       "      <td>172.3</td>\n",
       "      <td>75.24</td>\n",
       "      <td>21.3</td>\n",
       "      <td>80.0</td>\n",
       "      <td>130.0</td>\n",
       "      <td>54.9</td>\n",
       "      <td>18.4</td>\n",
       "      <td>60.0</td>\n",
       "      <td>217.0</td>\n",
       "      <td>2</td>\n",
       "      <td>25.344179</td>\n",
       "      <td>3</td>\n",
       "      <td>2</td>\n",
       "      <td>2</td>\n",
       "    </tr>\n",
       "    <tr>\n",
       "      <th>1</th>\n",
       "      <td>25.0</td>\n",
       "      <td>165.0</td>\n",
       "      <td>55.80</td>\n",
       "      <td>15.7</td>\n",
       "      <td>77.0</td>\n",
       "      <td>126.0</td>\n",
       "      <td>36.4</td>\n",
       "      <td>16.3</td>\n",
       "      <td>53.0</td>\n",
       "      <td>229.0</td>\n",
       "      <td>4</td>\n",
       "      <td>20.495868</td>\n",
       "      <td>2</td>\n",
       "      <td>2</td>\n",
       "      <td>2</td>\n",
       "    </tr>\n",
       "    <tr>\n",
       "      <th>2</th>\n",
       "      <td>31.0</td>\n",
       "      <td>179.6</td>\n",
       "      <td>78.00</td>\n",
       "      <td>20.1</td>\n",
       "      <td>92.0</td>\n",
       "      <td>152.0</td>\n",
       "      <td>44.8</td>\n",
       "      <td>12.0</td>\n",
       "      <td>49.0</td>\n",
       "      <td>181.0</td>\n",
       "      <td>2</td>\n",
       "      <td>24.181428</td>\n",
       "      <td>2</td>\n",
       "      <td>3</td>\n",
       "      <td>3</td>\n",
       "    </tr>\n",
       "    <tr>\n",
       "      <th>3</th>\n",
       "      <td>32.0</td>\n",
       "      <td>174.5</td>\n",
       "      <td>71.10</td>\n",
       "      <td>18.4</td>\n",
       "      <td>76.0</td>\n",
       "      <td>147.0</td>\n",
       "      <td>41.4</td>\n",
       "      <td>15.2</td>\n",
       "      <td>53.0</td>\n",
       "      <td>219.0</td>\n",
       "      <td>3</td>\n",
       "      <td>23.349562</td>\n",
       "      <td>2</td>\n",
       "      <td>3</td>\n",
       "      <td>2</td>\n",
       "    </tr>\n",
       "    <tr>\n",
       "      <th>4</th>\n",
       "      <td>28.0</td>\n",
       "      <td>173.8</td>\n",
       "      <td>67.70</td>\n",
       "      <td>17.1</td>\n",
       "      <td>70.0</td>\n",
       "      <td>127.0</td>\n",
       "      <td>43.5</td>\n",
       "      <td>27.1</td>\n",
       "      <td>45.0</td>\n",
       "      <td>217.0</td>\n",
       "      <td>3</td>\n",
       "      <td>22.412439</td>\n",
       "      <td>2</td>\n",
       "      <td>2</td>\n",
       "      <td>2</td>\n",
       "    </tr>\n",
       "  </tbody>\n",
       "</table>\n",
       "</div>"
      ],
      "text/plain": [
       "    age  height_cm  weight_kg  body fat_%  diastolic  systolic  gripForce  \\\n",
       "0  27.0      172.3      75.24        21.3       80.0     130.0       54.9   \n",
       "1  25.0      165.0      55.80        15.7       77.0     126.0       36.4   \n",
       "2  31.0      179.6      78.00        20.1       92.0     152.0       44.8   \n",
       "3  32.0      174.5      71.10        18.4       76.0     147.0       41.4   \n",
       "4  28.0      173.8      67.70        17.1       70.0     127.0       43.5   \n",
       "\n",
       "   sit and bend forward_cm  sit-ups counts  broad jump_cm  class    BMIndex  \\\n",
       "0                     18.4            60.0          217.0      2  25.344179   \n",
       "1                     16.3            53.0          229.0      4  20.495868   \n",
       "2                     12.0            49.0          181.0      2  24.181428   \n",
       "3                     15.2            53.0          219.0      3  23.349562   \n",
       "4                     27.1            45.0          217.0      3  22.412439   \n",
       "\n",
       "   situation  _systolic  _diastolic  \n",
       "0          3          2           2  \n",
       "1          2          2           2  \n",
       "2          2          3           3  \n",
       "3          2          3           2  \n",
       "4          2          2           2  "
      ]
     },
     "execution_count": 8,
     "metadata": {},
     "output_type": "execute_result"
    }
   ],
   "source": [
    "df.head(5)"
   ]
  },
  {
   "cell_type": "code",
   "execution_count": 9,
   "id": "20fce16b",
   "metadata": {},
   "outputs": [],
   "source": [
    "x_train , x_test , y_train , y_test = train_test_split(df , gender , random_state=0 , test_size=0.33 )"
   ]
  },
  {
   "cell_type": "code",
   "execution_count": 10,
   "id": "caef8d21",
   "metadata": {},
   "outputs": [
    {
     "data": {
      "text/plain": [
       "((8973, 15), (4420, 15), (8973,), (4420,))"
      ]
     },
     "execution_count": 10,
     "metadata": {},
     "output_type": "execute_result"
    }
   ],
   "source": [
    "x_train.shape , x_test.shape , y_train.shape , y_test.shape"
   ]
  },
  {
   "cell_type": "markdown",
   "id": "3f74201d",
   "metadata": {},
   "source": [
    "## Standardization"
   ]
  },
  {
   "cell_type": "code",
   "execution_count": 11,
   "id": "c25bf11a",
   "metadata": {},
   "outputs": [
    {
     "data": {
      "text/plain": [
       "array([-0.04426308,  0.65131189,  0.06532479, -1.030314  ,  1.68981961,\n",
       "        1.83391948,  0.63430154,  0.60125562,  0.56579406,  0.72259718,\n",
       "        0.44852606, -0.36906438, -0.50372611,  0.94211077,  1.78733302])"
      ]
     },
     "execution_count": 11,
     "metadata": {},
     "output_type": "execute_result"
    }
   ],
   "source": [
    "st = StandardScaler()\n",
    "x_train = st.fit_transform(x_train)\n",
    "x_test = st.transform(x_test)\n",
    "x_train[0]"
   ]
  },
  {
   "cell_type": "code",
   "execution_count": 12,
   "id": "1b1339fe",
   "metadata": {},
   "outputs": [],
   "source": [
    "X_train , X_val , Y_train , Y_val = train_test_split(x_train , y_train , random_state=0 , test_size=0.33)"
   ]
  },
  {
   "cell_type": "code",
   "execution_count": 13,
   "id": "b9aa67a0",
   "metadata": {},
   "outputs": [
    {
     "data": {
      "text/plain": [
       "((8973, 15), (6011, 15))"
      ]
     },
     "execution_count": 13,
     "metadata": {},
     "output_type": "execute_result"
    }
   ],
   "source": [
    "x_train.shape , X_train.shape"
   ]
  },
  {
   "cell_type": "markdown",
   "id": "d3fce670",
   "metadata": {},
   "source": [
    "## Selecting the models"
   ]
  },
  {
   "cell_type": "code",
   "execution_count": 14,
   "id": "273c60fe",
   "metadata": {},
   "outputs": [],
   "source": [
    "from sklearn.metrics import confusion_matrix\n",
    "\n",
    "\n",
    "from sklearn.svm import SVC\n",
    "svc = SVC(kernel=\"rbf\")\n",
    "\n",
    "from sklearn.ensemble import RandomForestClassifier\n",
    "rf = RandomForestClassifier(n_estimators=10)\n",
    "\n",
    "from sklearn.naive_bayes import GaussianNB , BernoulliNB\n",
    "gnb = GaussianNB()\n",
    "bnb = BernoulliNB()\n",
    "\n",
    "from sklearn.neighbors import KNeighborsClassifier\n",
    "knn = KNeighborsClassifier()\n",
    "\n",
    "from sklearn.tree import DecisionTreeClassifier\n",
    "dt = DecisionTreeClassifier()\n",
    "\n",
    "from sklearn.linear_model import LogisticRegression\n",
    "lgr = LogisticRegression(solver=\"lbfgs\")"
   ]
  },
  {
   "cell_type": "code",
   "execution_count": 15,
   "id": "0294af42",
   "metadata": {},
   "outputs": [],
   "source": [
    "def model_fun(models , names , x_train , y_train , x_test , y_test):\n",
    "    train_scores = []\n",
    "    com = []\n",
    "    \n",
    "    for i in range(len(models)) :\n",
    "        \n",
    "        models[i].fit(x_train , y_train)\n",
    "        pred = models[i].predict(x_test)\n",
    "        com.append((names[i] , confusion_matrix(y_test , pred)))\n",
    "        train_scores.append((names[i] , models[i].score(x_train , y_train)))\n",
    "    \n",
    "    tScors = [i[1] for i in train_scores]\n",
    "    sns.barplot(x = tScors , y = [i[0] for i in train_scores] , palette=\"inferno\")\n",
    "    plt.title(\"Score\")\n",
    "    plt.xlim(min(tScors)-0.05,max(tScors)+0.005)\n",
    "    plt.show()\n",
    "    \n",
    "    cScors = [(i[1][0,0] + i[1][1,1]) / (i[1].sum()) * 100 for i in com]\n",
    "    sns.barplot(x = cScors , y = [i[0] for i in com] , palette=\"inferno\")\n",
    "    plt.title(\"Confusion Matrix\")\n",
    "    plt.xlim(min(cScors)-0.05,max(cScors)+0.005)\n",
    "    plt.show()\n",
    "    \n",
    "    for i in com:\n",
    "        print(i[0])\n",
    "        print(i[1])\n",
    "        print((i[1][0,0] + i[1][1,1]) / (i[1].sum()) * 100)"
   ]
  },
  {
   "cell_type": "code",
   "execution_count": 16,
   "id": "a1b5f0ec",
   "metadata": {},
   "outputs": [
    {
     "data": {
      "image/png": "[encoded data removed]",
      "text/plain": [
       "<Figure size 432x288 with 1 Axes>"
      ]
     },
     "metadata": {
      "needs_background": "light"
     },
     "output_type": "display_data"
    },
    {
     "data": {
      "image/png": "[encoded data removed]",
      "text/plain": [
       "<Figure size 432x288 with 1 Axes>"
      ]
     },
     "metadata": {
      "needs_background": "light"
     },
     "output_type": "display_data"
    },
    {
     "name": "stdout",
     "output_type": "stream",
     "text": [
      "svc\n",
      "[[1073   23]\n",
      " [  17 1849]]\n",
      "98.6495611073599\n",
      "rf\n",
      "[[1070   26]\n",
      " [  34 1832]]\n",
      "97.97434166103984\n",
      "gnb\n",
      "[[1050   46]\n",
      " [  68 1798]]\n",
      "96.15124915597569\n",
      "bnb\n",
      "[[1043   53]\n",
      " [ 105 1761]]\n",
      "94.66576637407157\n",
      "knn\n",
      "[[1065   31]\n",
      " [  22 1844]]\n",
      "98.21066846725186\n",
      "dt\n",
      "[[1041   55]\n",
      " [  58 1808]]\n",
      "96.1850101282917\n",
      "lgr\n",
      "[[1073   23]\n",
      " [  16 1850]]\n",
      "98.68332207967589\n"
     ]
    }
   ],
   "source": [
    "model_fun(\n",
    "    [svc , rf , gnb , bnb , knn , dt , lgr ],\n",
    "    [\"svc\" , \"rf\" , \"gnb\" , \"bnb\" , \"knn\" , \"dt\" , \"lgr\"],\n",
    "    X_train , Y_train , X_val , Y_val\n",
    ")"
   ]
  },
  {
   "cell_type": "markdown",
   "id": "bec309d2",
   "metadata": {},
   "source": [
    "* let's select **SVC**, **Knn**, **Lgr** and find their the best parameters."
   ]
  },
  {
   "cell_type": "code",
   "execution_count": 17,
   "id": "56ab1f00",
   "metadata": {},
   "outputs": [],
   "source": [
    "from sklearn.model_selection import GridSearchCV\n",
    "\n",
    "def the_best(model , param , name , x_train , y_train ):\n",
    "    best_score = []\n",
    "    best_param = []\n",
    "    for i in range(len(model)):\n",
    "        gs = GridSearchCV(estimator=model[i],\n",
    "                  param_grid=param[i],\n",
    "                  scoring=\"accuracy\",\n",
    "                  cv=5,\n",
    "                  )\n",
    "        grid_search = gs.fit(x_train , y_train)\n",
    "        best_score.append((name[i] , grid_search.best_score_))\n",
    "        best_param.append((name[i] , grid_search.best_params_))\n",
    "    \n",
    "    for i  in range(len(best_param)):\n",
    "        print(best_score[i][0])\n",
    "        print(best_score[i][1])\n",
    "        print(best_param[i][0])\n",
    "        print(best_param[i][1])"
   ]
  },
  {
   "cell_type": "code",
   "execution_count": 18,
   "id": "df15f52f",
   "metadata": {},
   "outputs": [],
   "source": [
    "p_lgr = [{ \"solver\" : [\"newton-cg\", \"lbfgs\", \"liblinear\", \"sag\", \"saga\"] , \"multi_class\" : [\"auto\", \"ovr\"]  , \"max_iter\":[10000]}]\n",
    "p_svc = [{\"kernel\" : [\"poly\", \"rbf\", \"sigmoid\" , \"linear\"] , \"gamma\" : [\"auto\" , \"scale\"] \n",
    "          , \"decision_function_shape\" : [\"ovo\" , \"ovr\"]}]\n",
    "p_knn = [{\"n_neighbors\" : [3,5,7] , \"p\" : [2,3]}]"
   ]
  },
  {
   "cell_type": "code",
   "execution_count": 19,
   "id": "b86788df",
   "metadata": {},
   "outputs": [
    {
     "name": "stdout",
     "output_type": "stream",
     "text": [
      "lgr\n",
      "0.9885210711435498\n",
      "lgr\n",
      "{'max_iter': 10000, 'multi_class': 'auto', 'solver': 'liblinear'}\n",
      "svc\n",
      "0.9896855199770955\n",
      "svc\n",
      "{'decision_function_shape': 'ovo', 'gamma': 'auto', 'kernel': 'rbf'}\n",
      "knn\n",
      "0.9850267564588252\n",
      "knn\n",
      "{'n_neighbors': 5, 'p': 2}\n"
     ]
    }
   ],
   "source": [
    "the_best([lgr , svc , knn] , [p_lgr , p_svc , p_knn] , [\"lgr\" , \"svc\" , \"knn\"] , X_train , Y_train)"
   ]
  },
  {
   "cell_type": "markdown",
   "id": "59de429e",
   "metadata": {},
   "source": [
    "## Getting Accuracy from train and test dataset"
   ]
  },
  {
   "cell_type": "code",
   "execution_count": 20,
   "id": "8e17a8f8",
   "metadata": {},
   "outputs": [],
   "source": [
    "svc = SVC(decision_function_shape= 'ovo', gamma= 'auto', kernel= 'rbf')\n",
    "knn = KNeighborsClassifier(n_neighbors= 5, p= 2)\n",
    "lgr = LogisticRegression(max_iter= 10000, multi_class= 'auto', solver= 'liblinear')"
   ]
  },
  {
   "cell_type": "code",
   "execution_count": 21,
   "id": "700ea592",
   "metadata": {},
   "outputs": [
    {
     "data": {
      "image/png": "[encoded data removed]",
      "text/plain": [
       "<Figure size 432x288 with 1 Axes>"
      ]
     },
     "metadata": {
      "needs_background": "light"
     },
     "output_type": "display_data"
    },
    {
     "data": {
      "image/png": "[encoded data removed]",
      "text/plain": [
       "<Figure size 432x288 with 1 Axes>"
      ]
     },
     "metadata": {
      "needs_background": "light"
     },
     "output_type": "display_data"
    },
    {
     "name": "stdout",
     "output_type": "stream",
     "text": [
      "svc\n",
      "[[1607   24]\n",
      " [  27 2762]]\n",
      "98.84615384615385\n",
      "knn\n",
      "[[1591   40]\n",
      " [  37 2752]]\n",
      "98.25791855203619\n",
      "lgr\n",
      "[[1601   30]\n",
      " [  33 2756]]\n",
      "98.57466063348417\n"
     ]
    }
   ],
   "source": [
    "model_fun(\n",
    "    [svc , knn, lgr ],\n",
    "    [\"svc\" , \"knn\" , \"lgr\"],\n",
    "    x_train , y_train , x_test ,y_test\n",
    ")"
   ]
  },
  {
   "cell_type": "markdown",
   "id": "36d06a4d",
   "metadata": {},
   "source": [
    "* the best score is **SVC** with %98.84 accuracy"
   ]
  },
  {
   "cell_type": "markdown",
   "id": "85b73314",
   "metadata": {},
   "source": [
    "## Training A Model Without Feature Engineering"
   ]
  },
  {
   "cell_type": "code",
   "execution_count": 22,
   "id": "0e1dd345",
   "metadata": {},
   "outputs": [
    {
     "data": {
      "text/html": [
       "<div>\n",
       "<style scoped>\n",
       "    .dataframe tbody tr th:only-of-type {\n",
       "        vertical-align: middle;\n",
       "    }\n",
       "\n",
       "    .dataframe tbody tr th {\n",
       "        vertical-align: top;\n",
       "    }\n",
       "\n",
       "    .dataframe thead th {\n",
       "        text-align: right;\n",
       "    }\n",
       "</style>\n",
       "<table border=\"1\" class=\"dataframe\">\n",
       "  <thead>\n",
       "    <tr style=\"text-align: right;\">\n",
       "      <th></th>\n",
       "      <th>age</th>\n",
       "      <th>gender</th>\n",
       "      <th>height_cm</th>\n",
       "      <th>weight_kg</th>\n",
       "      <th>body fat_%</th>\n",
       "      <th>diastolic</th>\n",
       "      <th>systolic</th>\n",
       "      <th>gripForce</th>\n",
       "      <th>sit and bend forward_cm</th>\n",
       "      <th>sit-ups counts</th>\n",
       "      <th>broad jump_cm</th>\n",
       "      <th>class</th>\n",
       "    </tr>\n",
       "  </thead>\n",
       "  <tbody>\n",
       "    <tr>\n",
       "      <th>0</th>\n",
       "      <td>27.0</td>\n",
       "      <td>M</td>\n",
       "      <td>172.3</td>\n",
       "      <td>75.24</td>\n",
       "      <td>21.3</td>\n",
       "      <td>80.0</td>\n",
       "      <td>130.0</td>\n",
       "      <td>54.9</td>\n",
       "      <td>18.4</td>\n",
       "      <td>60.0</td>\n",
       "      <td>217.0</td>\n",
       "      <td>2</td>\n",
       "    </tr>\n",
       "    <tr>\n",
       "      <th>1</th>\n",
       "      <td>25.0</td>\n",
       "      <td>M</td>\n",
       "      <td>165.0</td>\n",
       "      <td>55.80</td>\n",
       "      <td>15.7</td>\n",
       "      <td>77.0</td>\n",
       "      <td>126.0</td>\n",
       "      <td>36.4</td>\n",
       "      <td>16.3</td>\n",
       "      <td>53.0</td>\n",
       "      <td>229.0</td>\n",
       "      <td>4</td>\n",
       "    </tr>\n",
       "    <tr>\n",
       "      <th>2</th>\n",
       "      <td>31.0</td>\n",
       "      <td>M</td>\n",
       "      <td>179.6</td>\n",
       "      <td>78.00</td>\n",
       "      <td>20.1</td>\n",
       "      <td>92.0</td>\n",
       "      <td>152.0</td>\n",
       "      <td>44.8</td>\n",
       "      <td>12.0</td>\n",
       "      <td>49.0</td>\n",
       "      <td>181.0</td>\n",
       "      <td>2</td>\n",
       "    </tr>\n",
       "    <tr>\n",
       "      <th>3</th>\n",
       "      <td>32.0</td>\n",
       "      <td>M</td>\n",
       "      <td>174.5</td>\n",
       "      <td>71.10</td>\n",
       "      <td>18.4</td>\n",
       "      <td>76.0</td>\n",
       "      <td>147.0</td>\n",
       "      <td>41.4</td>\n",
       "      <td>15.2</td>\n",
       "      <td>53.0</td>\n",
       "      <td>219.0</td>\n",
       "      <td>3</td>\n",
       "    </tr>\n",
       "    <tr>\n",
       "      <th>4</th>\n",
       "      <td>28.0</td>\n",
       "      <td>M</td>\n",
       "      <td>173.8</td>\n",
       "      <td>67.70</td>\n",
       "      <td>17.1</td>\n",
       "      <td>70.0</td>\n",
       "      <td>127.0</td>\n",
       "      <td>43.5</td>\n",
       "      <td>27.1</td>\n",
       "      <td>45.0</td>\n",
       "      <td>217.0</td>\n",
       "      <td>3</td>\n",
       "    </tr>\n",
       "  </tbody>\n",
       "</table>\n",
       "</div>"
      ],
      "text/plain": [
       "    age gender  height_cm  weight_kg  body fat_%  diastolic  systolic  \\\n",
       "0  27.0      M      172.3      75.24        21.3       80.0     130.0   \n",
       "1  25.0      M      165.0      55.80        15.7       77.0     126.0   \n",
       "2  31.0      M      179.6      78.00        20.1       92.0     152.0   \n",
       "3  32.0      M      174.5      71.10        18.4       76.0     147.0   \n",
       "4  28.0      M      173.8      67.70        17.1       70.0     127.0   \n",
       "\n",
       "   gripForce  sit and bend forward_cm  sit-ups counts  broad jump_cm  class  \n",
       "0       54.9                     18.4            60.0          217.0      2  \n",
       "1       36.4                     16.3            53.0          229.0      4  \n",
       "2       44.8                     12.0            49.0          181.0      2  \n",
       "3       41.4                     15.2            53.0          219.0      3  \n",
       "4       43.5                     27.1            45.0          217.0      3  "
      ]
     },
     "execution_count": 22,
     "metadata": {},
     "output_type": "execute_result"
    }
   ],
   "source": [
    "rowData = pd.read_csv(\"bodyPerformance_data.csv\")\n",
    "rowData.head()"
   ]
  },
  {
   "cell_type": "code",
   "execution_count": 23,
   "id": "29c80563",
   "metadata": {},
   "outputs": [],
   "source": [
    "#split the dataset for train, test, validation\n",
    "r_gender = rowData[\"gender\"].copy()\n",
    "r_df = rowData.drop(\"gender\", axis=1)"
   ]
  },
  {
   "cell_type": "code",
   "execution_count": 24,
   "id": "c3fe5278",
   "metadata": {},
   "outputs": [],
   "source": [
    "x_train , x_test , y_train , y_test = train_test_split(r_df , r_gender , random_state=0 , test_size=0.33 )"
   ]
  },
  {
   "cell_type": "code",
   "execution_count": 25,
   "id": "525fc5af",
   "metadata": {},
   "outputs": [
    {
     "data": {
      "text/plain": [
       "array([-0.04426308,  0.65131189,  0.06532479, -1.030314  ,  1.68981961,\n",
       "        1.83391948,  0.63430154,  0.60125562,  0.56579406,  0.72259718,\n",
       "        0.44852606])"
      ]
     },
     "execution_count": 25,
     "metadata": {},
     "output_type": "execute_result"
    }
   ],
   "source": [
    "st2 = StandardScaler()\n",
    "x_train = st2.fit_transform(x_train)\n",
    "x_test = st2.transform(x_test)\n",
    "x_train[0]"
   ]
  },
  {
   "cell_type": "code",
   "execution_count": 26,
   "id": "3fb360a8",
   "metadata": {},
   "outputs": [
    {
     "data": {
      "image/png": "[encoded data removed]",
      "text/plain": [
       "<Figure size 432x288 with 1 Axes>"
      ]
     },
     "metadata": {
      "needs_background": "light"
     },
     "output_type": "display_data"
    },
    {
     "data": {
      "image/png": "[encoded data removed]",
      "text/plain": [
       "<Figure size 432x288 with 1 Axes>"
      ]
     },
     "metadata": {
      "needs_background": "light"
     },
     "output_type": "display_data"
    },
    {
     "name": "stdout",
     "output_type": "stream",
     "text": [
      "svc\n",
      "[[1608   23]\n",
      " [  25 2764]]\n",
      "98.91402714932127\n",
      "knn\n",
      "[[1601   30]\n",
      " [  24 2765]]\n",
      "98.77828054298644\n",
      "lgr\n",
      "[[1602   29]\n",
      " [  32 2757]]\n",
      "98.61990950226244\n"
     ]
    }
   ],
   "source": [
    "model_fun(\n",
    "    [svc , knn, lgr ],\n",
    "    [\"svc\" , \"knn\" , \"lgr\"],\n",
    "    x_train , y_train , x_test ,y_test\n",
    ")"
   ]
  },
  {
   "cell_type": "markdown",
   "id": "5763345c",
   "metadata": {},
   "source": [
    "* The best score is **98.91% SVC** without feature engineering "
   ]
  }
 ],
 "metadata": {
  "kernelspec": {
   "display_name": "Python 3 (ipykernel)",
   "language": "python",
   "name": "python3"
  },
  "language_info": {
   "codemirror_mode": {
    "name": "ipython",
    "version": 3
   },
   "file_extension": ".py",
   "mimetype": "text/x-python",
   "name": "python",
   "nbconvert_exporter": "python",
   "pygments_lexer": "ipython3",
   "version": "3.7.3"
  }
 },
 "nbformat": 4,
 "nbformat_minor": 5
}
